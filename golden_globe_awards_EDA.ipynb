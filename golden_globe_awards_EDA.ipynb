{
 "cells": [
  {
   "cell_type": "markdown",
   "metadata": {},
   "source": [
    "# Historical facts about the \"Golden Globes Awards\"\n",
    "\n",
    "The Golden Globes is an award show hosted in the month of January that has a seventy-seven year history of recognising excellence in film and television. Using a database comprising details of all Golden Globe winners in the award's history, I will provide some quick facts about the show's winners and some recognisable patterns in the show's history. \n",
    "\n",
    "<img src=\"https://www.indiewire.com/wp-content/uploads/2016/12/golden-globes.jpg\"  width=\"300\" height=\"300\">"
   ]
  },
  {
   "cell_type": "code",
   "execution_count": 1,
   "metadata": {
    "_cell_guid": "b1076dfc-b9ad-4769-8c92-a6c4dae69d19",
    "_uuid": "8f2839f25d086af736a60e9eeb907d3b93b6e0e5"
   },
   "outputs": [],
   "source": [
    "import numpy as np \n",
    "import pandas as pd\n",
    "\n",
    "import seaborn as sns\n",
    "import matplotlib.pyplot as pl"
   ]
  },
  {
   "cell_type": "markdown",
   "metadata": {},
   "source": [
    "## Structure of the Database"
   ]
  },
  {
   "cell_type": "code",
   "execution_count": 3,
   "metadata": {
    "_cell_guid": "",
    "_uuid": ""
   },
   "outputs": [
    {
     "data": {
      "text/html": [
       "<div>\n",
       "<style scoped>\n",
       "    .dataframe tbody tr th:only-of-type {\n",
       "        vertical-align: middle;\n",
       "    }\n",
       "\n",
       "    .dataframe tbody tr th {\n",
       "        vertical-align: top;\n",
       "    }\n",
       "\n",
       "    .dataframe thead th {\n",
       "        text-align: right;\n",
       "    }\n",
       "</style>\n",
       "<table border=\"1\" class=\"dataframe\">\n",
       "  <thead>\n",
       "    <tr style=\"text-align: right;\">\n",
       "      <th></th>\n",
       "      <th>year_film</th>\n",
       "      <th>year_award</th>\n",
       "      <th>ceremony</th>\n",
       "      <th>category</th>\n",
       "      <th>nominee</th>\n",
       "      <th>film</th>\n",
       "      <th>win</th>\n",
       "    </tr>\n",
       "  </thead>\n",
       "  <tbody>\n",
       "    <tr>\n",
       "      <td>0</td>\n",
       "      <td>1943</td>\n",
       "      <td>1944</td>\n",
       "      <td>1</td>\n",
       "      <td>Best Performance by an Actress in a Supporting...</td>\n",
       "      <td>Katina Paxinou</td>\n",
       "      <td>For Whom The Bell Tolls</td>\n",
       "      <td>True</td>\n",
       "    </tr>\n",
       "    <tr>\n",
       "      <td>1</td>\n",
       "      <td>1943</td>\n",
       "      <td>1944</td>\n",
       "      <td>1</td>\n",
       "      <td>Best Performance by an Actor in a Supporting R...</td>\n",
       "      <td>Akim Tamiroff</td>\n",
       "      <td>For Whom The Bell Tolls</td>\n",
       "      <td>True</td>\n",
       "    </tr>\n",
       "    <tr>\n",
       "      <td>2</td>\n",
       "      <td>1943</td>\n",
       "      <td>1944</td>\n",
       "      <td>1</td>\n",
       "      <td>Best Director - Motion Picture</td>\n",
       "      <td>Henry King</td>\n",
       "      <td>The Song Of Bernadette</td>\n",
       "      <td>True</td>\n",
       "    </tr>\n",
       "    <tr>\n",
       "      <td>3</td>\n",
       "      <td>1943</td>\n",
       "      <td>1944</td>\n",
       "      <td>1</td>\n",
       "      <td>Picture</td>\n",
       "      <td>The Song Of Bernadette</td>\n",
       "      <td>NaN</td>\n",
       "      <td>True</td>\n",
       "    </tr>\n",
       "    <tr>\n",
       "      <td>4</td>\n",
       "      <td>1943</td>\n",
       "      <td>1944</td>\n",
       "      <td>1</td>\n",
       "      <td>Actress In A Leading Role</td>\n",
       "      <td>Jennifer Jones</td>\n",
       "      <td>The Song Of Bernadette</td>\n",
       "      <td>True</td>\n",
       "    </tr>\n",
       "  </tbody>\n",
       "</table>\n",
       "</div>"
      ],
      "text/plain": [
       "   year_film  year_award  ceremony  \\\n",
       "0       1943        1944         1   \n",
       "1       1943        1944         1   \n",
       "2       1943        1944         1   \n",
       "3       1943        1944         1   \n",
       "4       1943        1944         1   \n",
       "\n",
       "                                            category                 nominee  \\\n",
       "0  Best Performance by an Actress in a Supporting...          Katina Paxinou   \n",
       "1  Best Performance by an Actor in a Supporting R...           Akim Tamiroff   \n",
       "2                     Best Director - Motion Picture              Henry King   \n",
       "3                                            Picture  The Song Of Bernadette   \n",
       "4                          Actress In A Leading Role          Jennifer Jones   \n",
       "\n",
       "                      film   win  \n",
       "0  For Whom The Bell Tolls  True  \n",
       "1  For Whom The Bell Tolls  True  \n",
       "2   The Song Of Bernadette  True  \n",
       "3                      NaN  True  \n",
       "4   The Song Of Bernadette  True  "
      ]
     },
     "execution_count": 3,
     "metadata": {},
     "output_type": "execute_result"
    }
   ],
   "source": [
    "df = pd.read_csv(\"../input/golden-globe-awards/golden_globe_awards.csv\")\n",
    "df.head()"
   ]
  },
  {
   "cell_type": "code",
   "execution_count": 4,
   "metadata": {},
   "outputs": [
    {
     "data": {
      "text/html": [
       "<div>\n",
       "<style scoped>\n",
       "    .dataframe tbody tr th:only-of-type {\n",
       "        vertical-align: middle;\n",
       "    }\n",
       "\n",
       "    .dataframe tbody tr th {\n",
       "        vertical-align: top;\n",
       "    }\n",
       "\n",
       "    .dataframe thead th {\n",
       "        text-align: right;\n",
       "    }\n",
       "</style>\n",
       "<table border=\"1\" class=\"dataframe\">\n",
       "  <thead>\n",
       "    <tr style=\"text-align: right;\">\n",
       "      <th></th>\n",
       "      <th>year_film</th>\n",
       "      <th>year_award</th>\n",
       "      <th>ceremony</th>\n",
       "      <th>category</th>\n",
       "      <th>nominee</th>\n",
       "      <th>film</th>\n",
       "      <th>win</th>\n",
       "    </tr>\n",
       "  </thead>\n",
       "  <tbody>\n",
       "    <tr>\n",
       "      <td>7986</td>\n",
       "      <td>2019</td>\n",
       "      <td>2020</td>\n",
       "      <td>77</td>\n",
       "      <td>Best Performance by an Actor in a Supporting R...</td>\n",
       "      <td>Kieran Culkin</td>\n",
       "      <td>Succession</td>\n",
       "      <td>False</td>\n",
       "    </tr>\n",
       "    <tr>\n",
       "      <td>7987</td>\n",
       "      <td>2019</td>\n",
       "      <td>2020</td>\n",
       "      <td>77</td>\n",
       "      <td>Best Performance by an Actor in a Supporting R...</td>\n",
       "      <td>Andrew Scott</td>\n",
       "      <td>Fleabag</td>\n",
       "      <td>False</td>\n",
       "    </tr>\n",
       "    <tr>\n",
       "      <td>7988</td>\n",
       "      <td>2019</td>\n",
       "      <td>2020</td>\n",
       "      <td>77</td>\n",
       "      <td>Best Performance by an Actor in a Supporting R...</td>\n",
       "      <td>Henry Winkler</td>\n",
       "      <td>Barry</td>\n",
       "      <td>False</td>\n",
       "    </tr>\n",
       "    <tr>\n",
       "      <td>7989</td>\n",
       "      <td>2019</td>\n",
       "      <td>2020</td>\n",
       "      <td>77</td>\n",
       "      <td>Cecil B. deMille Award</td>\n",
       "      <td>Tom Hanks</td>\n",
       "      <td>NaN</td>\n",
       "      <td>False</td>\n",
       "    </tr>\n",
       "    <tr>\n",
       "      <td>7990</td>\n",
       "      <td>2019</td>\n",
       "      <td>2020</td>\n",
       "      <td>77</td>\n",
       "      <td>Carol Burnett Award</td>\n",
       "      <td>Ellen DeGeneres</td>\n",
       "      <td>NaN</td>\n",
       "      <td>False</td>\n",
       "    </tr>\n",
       "  </tbody>\n",
       "</table>\n",
       "</div>"
      ],
      "text/plain": [
       "      year_film  year_award  ceremony  \\\n",
       "7986       2019        2020        77   \n",
       "7987       2019        2020        77   \n",
       "7988       2019        2020        77   \n",
       "7989       2019        2020        77   \n",
       "7990       2019        2020        77   \n",
       "\n",
       "                                               category          nominee  \\\n",
       "7986  Best Performance by an Actor in a Supporting R...    Kieran Culkin   \n",
       "7987  Best Performance by an Actor in a Supporting R...     Andrew Scott   \n",
       "7988  Best Performance by an Actor in a Supporting R...    Henry Winkler   \n",
       "7989                             Cecil B. deMille Award        Tom Hanks   \n",
       "7990                                Carol Burnett Award  Ellen DeGeneres   \n",
       "\n",
       "            film    win  \n",
       "7986  Succession  False  \n",
       "7987     Fleabag  False  \n",
       "7988       Barry  False  \n",
       "7989         NaN  False  \n",
       "7990         NaN  False  "
      ]
     },
     "execution_count": 4,
     "metadata": {},
     "output_type": "execute_result"
    }
   ],
   "source": [
    "df.tail()"
   ]
  },
  {
   "cell_type": "code",
   "execution_count": 5,
   "metadata": {},
   "outputs": [
    {
     "name": "stdout",
     "output_type": "stream",
     "text": [
      "The database contains a total of 7991 rows.\n"
     ]
    }
   ],
   "source": [
    "print('The database contains a total of %d rows.' %df['year_film'].count())"
   ]
  },
  {
   "cell_type": "markdown",
   "metadata": {},
   "source": [
    "# **Fact-finding Analysis**\n",
    "\n",
    "## *The Winners Table*\n",
    "\n",
    "Let's explore some fact about the nominees and films that have broken records in Golden Globe history. \n"
   ]
  },
  {
   "cell_type": "code",
   "execution_count": null,
   "metadata": {},
   "outputs": [],
   "source": [
    "#Narrow down the database to show the winners only\n",
    "df_wins = df[df['win'] == True]"
   ]
  },
  {
   "cell_type": "code",
   "execution_count": null,
   "metadata": {},
   "outputs": [],
   "source": [
    "df_wins.head()"
   ]
  },
  {
   "cell_type": "code",
   "execution_count": null,
   "metadata": {},
   "outputs": [],
   "source": [
    "df_wins.tail()"
   ]
  },
  {
   "cell_type": "code",
   "execution_count": null,
   "metadata": {},
   "outputs": [],
   "source": [
    "print('This updated \"wins\" database contains a total of %d rows.' %df_wins['year_film'].count())"
   ]
  },
  {
   "cell_type": "markdown",
   "metadata": {},
   "source": [
    "* Which nominee has been awarded the most number of awards in one night"
   ]
  },
  {
   "cell_type": "code",
   "execution_count": null,
   "metadata": {},
   "outputs": [],
   "source": [
    "grouped = df_wins.groupby('year_award')\n",
    "\n",
    "big_winner = grouped['nominee'].value_counts()\n",
    "pd.DataFrame(big_winner[big_winner == big_winner.max()])"
   ]
  },
  {
   "cell_type": "markdown",
   "metadata": {},
   "source": [
    "* We can ask the same question for films and TV shows. Which of these managed to sweep the most number of awards during one ceremony?"
   ]
  },
  {
   "cell_type": "code",
   "execution_count": null,
   "metadata": {},
   "outputs": [],
   "source": [
    "film_most_wins = grouped['film'].value_counts()\n",
    "pd.DataFrame(film_most_wins[film_most_wins == film_most_wins.max()])"
   ]
  },
  {
   "cell_type": "markdown",
   "metadata": {},
   "source": [
    "* Which films came had the second highest number of wins during one ceremony?"
   ]
  },
  {
   "cell_type": "code",
   "execution_count": null,
   "metadata": {},
   "outputs": [],
   "source": [
    "# With 5 or more wins in one ceremony\n",
    "film_most_wins = grouped['film'].value_counts()\n",
    "pd.DataFrame(film_most_wins[film_most_wins >= 5])"
   ]
  },
  {
   "cell_type": "markdown",
   "metadata": {},
   "source": [
    "### How frequent is it that a film wins more than five awards?"
   ]
  },
  {
   "cell_type": "code",
   "execution_count": null,
   "metadata": {},
   "outputs": [],
   "source": [
    "pl.figure(figsize=(6,5))\n",
    "ax = pl.gca()\n",
    "fs = 13\n",
    "min_wins = 2\n",
    "max_wins = grouped['film'].value_counts().max()\n",
    "sns.set(style='darkgrid')\n",
    "sns.distplot(film_most_wins[film_most_wins >= float(min_wins)], color='purple', \n",
    "             kde=0)\n",
    "pl.xticks(np.arange(min_wins, max_wins+1, 1))\n",
    "pl.ylabel('Frequency of Wins', fontsize=fs)\n",
    "pl.xlabel('Golden Globe wins during one ceremony',fontsize=fs)\n",
    "pl.show()"
   ]
  },
  {
   "cell_type": "markdown",
   "metadata": {},
   "source": [
    "### Of course, being the biggest winner during one ceremony does not exactly translate to being one of the biggest winners in Golden Globe history. \n",
    "\n",
    "* Which film(s) or TV show(s) have won the most Golden Globes overall? "
   ]
  },
  {
   "cell_type": "code",
   "execution_count": null,
   "metadata": {},
   "outputs": [],
   "source": [
    "film_most_wins_history = df_wins.groupby('film')['win'].sum()\n",
    "pd.DataFrame(film_most_wins_history[film_most_wins_history >= film_most_wins_history.max()])"
   ]
  },
  {
   "cell_type": "code",
   "execution_count": null,
   "metadata": {},
   "outputs": [],
   "source": [
    "film_most_wins_history = df_wins.groupby('film')['win'].sum()\n",
    "min_wins_history = 3\n",
    "max_wins_history = int(film_most_wins_history.max())\n",
    "sns.set(style='darkgrid')\n",
    "sns.distplot(film_most_wins_history[film_most_wins_history >= float(min_wins_history)], color='r', \n",
    "             kde=0)\n",
    "pl.xticks(np.arange(min_wins_history, max_wins_history+1, 1))\n",
    "pl.ylabel('Frequency of Wins', fontsize=fs)\n",
    "pl.xlabel('Golden Globe wins in history', fontsize=fs)\n",
    "pl.show()"
   ]
  },
  {
   "cell_type": "markdown",
   "metadata": {},
   "source": [
    "*  Which nominee has had the most wins throughout the history of this award show? "
   ]
  },
  {
   "cell_type": "code",
   "execution_count": null,
   "metadata": {},
   "outputs": [],
   "source": [
    "name_most_wins = df_wins['nominee'].value_counts().idxmax()\n",
    "most_wins_count = df_wins['nominee'].value_counts().max()\n",
    "print('%s has received %d Golden Globe wins in total.' %(name_most_wins,most_wins_count) )"
   ]
  },
  {
   "cell_type": "markdown",
   "metadata": {},
   "source": [
    "* Who has received the most nominations in history? "
   ]
  },
  {
   "cell_type": "code",
   "execution_count": null,
   "metadata": {},
   "outputs": [],
   "source": [
    "name_most_noms = df['nominee'].value_counts()\n",
    "print('%s has received %d Golden Globe nominations in total.' %(name_most_noms.idxmax(),name_most_noms.max()) )"
   ]
  },
  {
   "cell_type": "markdown",
   "metadata": {},
   "source": [
    "* Which nominees have also received a high number of Golden Globe nominations?"
   ]
  },
  {
   "cell_type": "code",
   "execution_count": null,
   "metadata": {},
   "outputs": [],
   "source": [
    "pd.DataFrame(df['nominee'].value_counts().head(10))"
   ]
  },
  {
   "cell_type": "markdown",
   "metadata": {},
   "source": [
    "* Which film/TV show has received the most nominations in history?"
   ]
  },
  {
   "cell_type": "code",
   "execution_count": null,
   "metadata": {},
   "outputs": [],
   "source": [
    "film_most_noms = df['film'].value_counts()\n",
    "print('\"%s\" has received %d Golden Globe nominations in total.' %(film_most_noms.idxmax(),film_most_noms.max()) )"
   ]
  },
  {
   "cell_type": "markdown",
   "metadata": {},
   "source": [
    "* Which other films/TV shows have been nominated this many times? "
   ]
  },
  {
   "cell_type": "code",
   "execution_count": null,
   "metadata": {},
   "outputs": [],
   "source": [
    "pd.DataFrame(df['film'].value_counts().head(10))"
   ]
  },
  {
   "cell_type": "markdown",
   "metadata": {},
   "source": [
    "## *Special Awards*\n",
    "\n",
    "### The Cecil B. DeMille Award is an honorary Golden Globe Award bestowed by the Hollywood Foreign Press Association (HFPA) for \"outstanding contributions to the world of entertainment\".\n",
    "\n",
    "* How many actresses/actors have received this honour?"
   ]
  },
  {
   "cell_type": "code",
   "execution_count": null,
   "metadata": {},
   "outputs": [],
   "source": [
    "df[df['category'].str.contains('Cecil')]['nominee'].count()"
   ]
  },
  {
   "cell_type": "code",
   "execution_count": null,
   "metadata": {},
   "outputs": [],
   "source": [
    "pd.DataFrame(df[df['category'].str.contains('Cecil')]['nominee'])"
   ]
  },
  {
   "cell_type": "markdown",
   "metadata": {},
   "source": [
    "### A new Golden Globes honorary award has been introduced recently - the Carol Burnett Award. It is an honorary Golden Globe Award bestowed by the Hollywood Foreign Press Association (HFPA) for \"outstanding contributions to television on or off the screen.\" \n",
    "* How many actresses or actors have bestowed with this honour? "
   ]
  },
  {
   "cell_type": "code",
   "execution_count": null,
   "metadata": {},
   "outputs": [],
   "source": [
    "df[df['category'].str.contains('Carol Burnett Award')]['nominee'].count()"
   ]
  },
  {
   "cell_type": "code",
   "execution_count": null,
   "metadata": {},
   "outputs": [],
   "source": [
    "pd.DataFrame(df[df['category'].str.contains('Carol Burnett Award')]['nominee'])"
   ]
  }
 ],
 "metadata": {
  "kernelspec": {
   "display_name": "Python 3",
   "language": "python",
   "name": "python3"
  },
  "language_info": {
   "codemirror_mode": {
    "name": "ipython",
    "version": 3
   },
   "file_extension": ".py",
   "mimetype": "text/x-python",
   "name": "python",
   "nbconvert_exporter": "python",
   "pygments_lexer": "ipython3",
   "version": "3.7.4"
  }
 },
 "nbformat": 4,
 "nbformat_minor": 1
}
